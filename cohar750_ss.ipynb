{
 "cells": [
  {
   "cell_type": "code",
   "execution_count": 1,
   "id": "48e6864a-9596-4e14-a0e4-ad8c63dddffd",
   "metadata": {},
   "outputs": [
    {
     "name": "stdout",
     "output_type": "stream",
     "text": [
      "Loading CENNSMC Root Utilities\n",
      "Welcome to JupyROOT 6.28/04\n"
     ]
    }
   ],
   "source": [
    "import ROOT\n",
    "import uproot\n",
    "import awkward as ak\n",
    "import numpy as np\n",
    "from hist import Hist\n",
    "from numba import njit"
   ]
  },
  {
   "cell_type": "code",
   "execution_count": 2,
   "id": "6cc233d8-4cfb-476c-816f-51c845dbf56b",
   "metadata": {},
   "outputs": [],
   "source": [
    "@njit\n",
    "def generate_f90(pes, m, pe_centers, f90_edges):\n",
    "    i = np.argmin(np.abs(pe_centers - pes))\n",
    "    w = m[i] / m[i].sum()\n",
    "    cdf = np.cumsum(w)\n",
    "    r = np.random.rand()\n",
    "    bin_index = np.searchsorted(cdf, r)\n",
    "    random_value = np.random.uniform(f90_edges[bin_index], f90_edges[bin_index + 1])\n",
    "    \n",
    "    return random_value"
   ]
  },
  {
   "cell_type": "code",
   "execution_count": 3,
   "id": "2954e5ff-8697-4717-ac87-7b878d234309",
   "metadata": {},
   "outputs": [],
   "source": [
    "with uproot.open(\"../data/PDF_noWaterData.root\") as f:\n",
    "    nowater = f['PDFTree']\n",
    "    ens = nowater['energy'].array()\n",
    "    f90s = nowater['F90'].array()\n",
    "    h_f90 = Hist.new.Reg(500, 0, 1000).Reg(50, 0, 1).Double()\n",
    "    h_f90.fill(ens * 4.5, f90s)\n",
    "    m = h_f90.values()\n",
    "    pe_centers = h_f90.axes[0].centers\n",
    "    f90_edges = h_f90.axes[1].edges\n",
    "    generate_f90(10, m, pe_centers, f90_edges)"
   ]
  },
  {
   "cell_type": "code",
   "execution_count": 4,
   "id": "3b7a4915-2c78-4343-a751-fdeb8f881c31",
   "metadata": {},
   "outputs": [],
   "source": [
    "def ss_rates(data, h1, h2):\n",
    "    rng = np.random.default_rng(1234)\n",
    "    for batch in uproot.iterate(data, step_size=\"100 MB\", filter_name='fv*f[DS]*'):\n",
    "        pos = batch['fvChannels.fSensorPosition']\n",
    "        pmt_photons = batch['fvChannels.fDetPhotonsTot']\n",
    "        events = ak.num(pos, axis=1) > 0\n",
    "        top_pmts = pos[events][..., 2] > 0\n",
    "        bot_pmts = pos[events][..., 2] < 0\n",
    "        bot_photons = ak.sum(pmt_photons[events][bot_pmts], axis=-1)\n",
    "        top_photons = ak.sum(pmt_photons[events][top_pmts], axis=-1)\n",
    "        quality_cut = (top_photons >= 2) & (bot_photons >= 2)\n",
    "        det_photons = (top_photons + bot_photons)[quality_cut]\n",
    "        smeared_photons = rng.normal(det_photons, 0.44 * np.sqrt(det_photons))\n",
    "        f90s = np.array([generate_f90(smeared_photon, m, pe_centers, f90_edges) for smeared_photon in smeared_photons])\n",
    "        f90_cut = (f90s > 0.5) & (f90s < 0.9)\n",
    "        reco_energies = smeared_photons * 0.1658450956443337\n",
    "        w = ak.ones_like(reco_energies)\n",
    "        reco_energies_f90 = smeared_photons[f90_cut] * 0.1658450956443337\n",
    "        w_f90 = ak.ones_like(reco_energies_f90)\n",
    "        h1.FillN(len(smeared_photons), ak.to_numpy(reco_energies), ak.to_numpy(w))\n",
    "        h2.FillN(len(reco_energies_f90), ak.to_numpy(reco_energies_f90), ak.to_numpy(w_f90))"
   ]
  },
  {
   "cell_type": "code",
   "execution_count": 5,
   "id": "a276a581-9026-4e37-9aa1-2fa8e4d2f48a",
   "metadata": {},
   "outputs": [],
   "source": [
    "h_f90 = ROOT.TH1D(\"h_f90\", \"Background sim;Det. photons;Counts\", 40, 0, 40)\n",
    "h = ROOT.TH1D(\"h\", \"Background sim;Det. photons;Counts\", 40, 0, 40)\n",
    "data = [\"/N/u/bojohn/Quartz/slate/5691721/test_*\", \"/N/u/bojohn/Quartz/slate/5691725/test_*\", \"/N/u/bojohn/Quartz/slate/5691726/test_*\"]\n",
    "ss_rates(data, h, h_f90)"
   ]
  },
  {
   "cell_type": "code",
   "execution_count": 6,
   "id": "ad762735-0d16-447b-9860-2dee260e088f",
   "metadata": {},
   "outputs": [
    {
     "data": {
      "image/png": "[encoded data removed]",
      "text/plain": [
       "<IPython.core.display.Image object>"
      ]
     },
     "metadata": {},
     "output_type": "display_data"
    }
   ],
   "source": [
    "c = ROOT.TCanvas()\n",
    "h.Draw()\n",
    "h_f90.SetLineColor(ROOT.kRed)\n",
    "h_f90.Draw('same')\n",
    "c.Draw()"
   ]
  },
  {
   "cell_type": "code",
   "execution_count": 7,
   "id": "34d10a9f-5c7c-46a8-bf0d-2b22e5e047f4",
   "metadata": {},
   "outputs": [
    {
     "name": "stdout",
     "output_type": "stream",
     "text": [
      "2254.0\n",
      "277.0\n",
      "8.137184115523466\n"
     ]
    }
   ],
   "source": [
    "full_rate = h.Integral(6, 39)\n",
    "f90_rate = h_f90.Integral(6, 39)\n",
    "print(full_rate)\n",
    "print(f90_rate)\n",
    "print(full_rate / f90_rate)\n",
    "fout = ROOT.TFile(\"../data/pb210_morestats.root\", \"recreate\")\n",
    "h.Write()\n",
    "h_f90.Write()\n",
    "fout.Close()"
   ]
  },
  {
   "cell_type": "code",
   "execution_count": 14,
   "id": "c1b9139d-01a5-400c-9d77-2a0bac910fa2",
   "metadata": {},
   "outputs": [
    {
     "name": "stderr",
     "output_type": "stream",
     "text": [
      "Warning in <TROOT::Append>: Replacing existing TH1: hog_phase1 (Potential memory leak).\n"
     ]
    }
   ],
   "source": [
    "h_hogf90 = ROOT.TH1D(\"hog_phase1\", \"Background sim;Det. photons;Counts\", 40, 0, 40)\n",
    "h_hog = ROOT.TH1D(\"hog_phase1nof90\", \"Background sim;Det. photons;Counts\", 40, 0, 40)\n",
    "data = [\"/N/u/bojohn/Quartz/slate/5486079/test_*\"]\n",
    "ss_rates(data, h_hog, h_hogf90)"
   ]
  },
  {
   "cell_type": "code",
   "execution_count": 15,
   "id": "811b6b6c-8fed-4ca5-a63a-d75e0aa41c4c",
   "metadata": {},
   "outputs": [
    {
     "data": {
      "image/png": "[encoded data removed]",
      "text/plain": [
       "<IPython.core.display.Image object>"
      ]
     },
     "metadata": {},
     "output_type": "display_data"
    }
   ],
   "source": [
    "c = ROOT.TCanvas()\n",
    "h_hog.Draw()\n",
    "h_hogf90.SetLineColor(ROOT.kRed)\n",
    "h_hogf90.Draw('same')\n",
    "c.Draw()"
   ]
  },
  {
   "cell_type": "code",
   "execution_count": 16,
   "id": "169ea2b5-fc11-49a1-8bd0-4efc1b44239c",
   "metadata": {},
   "outputs": [
    {
     "name": "stdout",
     "output_type": "stream",
     "text": [
      "527.0\n",
      "75.0\n",
      "7.026666666666666\n"
     ]
    }
   ],
   "source": [
    "full_rate = h_hog.Integral(6, 39)\n",
    "f90_rate = h_hogf90.Integral(6, 39)\n",
    "print(full_rate)\n",
    "print(f90_rate)\n",
    "print(full_rate / f90_rate)\n",
    "fout = ROOT.TFile(\"../data/hog_phase1.root\", \"recreate\")\n",
    "h_hog.Write()\n",
    "h_hogf90.Write()\n",
    "fout.Close()"
   ]
  },
  {
   "cell_type": "code",
   "execution_count": null,
   "id": "d5921475-eb1e-4b38-8df5-0ad523df255d",
   "metadata": {},
   "outputs": [],
   "source": []
  }
 ],
 "metadata": {
  "kernelspec": {
   "display_name": "Python 3 (ipykernel)",
   "language": "python",
   "name": "python3"
  },
  "language_info": {
   "codemirror_mode": {
    "name": "ipython",
    "version": 3
   },
   "file_extension": ".py",
   "mimetype": "text/x-python",
   "name": "python",
   "nbconvert_exporter": "python",
   "pygments_lexer": "ipython3",
   "version": "3.9.21"
  }
 },
 "nbformat": 4,
 "nbformat_minor": 5
}
